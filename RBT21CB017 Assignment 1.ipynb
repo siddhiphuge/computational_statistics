{
  "nbformat": 4,
  "nbformat_minor": 0,
  "metadata": {
    "colab": {
      "provenance": []
    },
    "kernelspec": {
      "name": "python3",
      "display_name": "Python 3"
    },
    "language_info": {
      "name": "python"
    }
  },
  "cells": [
    {
      "cell_type": "code",
      "execution_count": null,
      "metadata": {
        "id": "nl9fwZ9qc0Al"
      },
      "outputs": [],
      "source": [
        "import numpy as np\n",
        "import pandas as pd\n",
        "import matplotlib.pyplot as plt\n",
        "import sklearn.linear_model as lm\n",
        "from sklearn.linear_model import LinearRegression\n",
        "import seaborn as sns"
      ]
    },
    {
      "cell_type": "code",
      "source": [
        "x = np.array([75,62,80,56,35,47,68,90,70,45])\n",
        "y= np.array([64,60,76,65,45,50,60,75,25,50])"
      ],
      "metadata": {
        "id": "eIJtIKmxzGxr"
      },
      "execution_count": null,
      "outputs": []
    },
    {
      "cell_type": "code",
      "source": [
        "m_x = np.mean(x,)\n",
        "m_x"
      ],
      "metadata": {
        "colab": {
          "base_uri": "https://localhost:8080/"
        },
        "id": "GSLYh7xz0eAv",
        "outputId": "669cf08e-7770-4ba4-b1df-f51ea6c6d413"
      },
      "execution_count": null,
      "outputs": [
        {
          "output_type": "execute_result",
          "data": {
            "text/plain": [
              "62.8"
            ]
          },
          "metadata": {},
          "execution_count": 3
        }
      ]
    },
    {
      "cell_type": "code",
      "source": [
        "m_y=np.mean(y)\n",
        "m_y"
      ],
      "metadata": {
        "colab": {
          "base_uri": "https://localhost:8080/"
        },
        "id": "r4ogaZ2o0n60",
        "outputId": "786e3d5e-f68c-4da9-958a-03e6e955953c"
      },
      "execution_count": null,
      "outputs": [
        {
          "output_type": "execute_result",
          "data": {
            "text/plain": [
              "57.0"
            ]
          },
          "metadata": {},
          "execution_count": 4
        }
      ]
    },
    {
      "cell_type": "code",
      "source": [
        "xy = x*y\n",
        "xy"
      ],
      "metadata": {
        "colab": {
          "base_uri": "https://localhost:8080/"
        },
        "id": "s2ZEugdA-IDw",
        "outputId": "5da4b5fe-c606-4030-d57f-d8d7e626a4dc"
      },
      "execution_count": null,
      "outputs": [
        {
          "output_type": "execute_result",
          "data": {
            "text/plain": [
              "array([4800, 3720, 6080, 3640, 1575, 2350, 4080, 6750, 1750, 2250])"
            ]
          },
          "metadata": {},
          "execution_count": 5
        }
      ]
    },
    {
      "cell_type": "code",
      "source": [
        "sx2 = sum(x*y)\n",
        "sx2"
      ],
      "metadata": {
        "colab": {
          "base_uri": "https://localhost:8080/"
        },
        "id": "6pf3yqo--UNW",
        "outputId": "e78d3553-4740-49c9-8c1b-bcd049a8284d"
      },
      "execution_count": null,
      "outputs": [
        {
          "output_type": "execute_result",
          "data": {
            "text/plain": [
              "36995"
            ]
          },
          "metadata": {},
          "execution_count": 6
        }
      ]
    },
    {
      "cell_type": "code",
      "source": [
        "sx= sum(x)\n",
        "sx"
      ],
      "metadata": {
        "colab": {
          "base_uri": "https://localhost:8080/"
        },
        "id": "wS5pSVxU-b0b",
        "outputId": "7cb5e011-12cc-4d5e-f13a-ffe8e03f7de8"
      },
      "execution_count": null,
      "outputs": [
        {
          "output_type": "execute_result",
          "data": {
            "text/plain": [
              "628"
            ]
          },
          "metadata": {},
          "execution_count": 7
        }
      ]
    },
    {
      "cell_type": "code",
      "source": [
        "sx= sum(x)\n",
        "sx= sum(y)"
      ],
      "metadata": {
        "id": "z0SB7LaM-hBh"
      },
      "execution_count": null,
      "outputs": []
    },
    {
      "cell_type": "code",
      "source": [
        "n = np.size(x)\n",
        "n"
      ],
      "metadata": {
        "colab": {
          "base_uri": "https://localhost:8080/"
        },
        "id": "6jF2pKPl-pd0",
        "outputId": "6ce1f12b-d842-4c89-f804-fc06a0e691d5"
      },
      "execution_count": null,
      "outputs": [
        {
          "output_type": "execute_result",
          "data": {
            "text/plain": [
              "10"
            ]
          },
          "metadata": {},
          "execution_count": 9
        }
      ]
    },
    {
      "cell_type": "code",
      "source": [
        "mxy=n*m_x*m_y\n",
        "mxy\n"
      ],
      "metadata": {
        "colab": {
          "base_uri": "https://localhost:8080/"
        },
        "id": "zAqusGXG-uBB",
        "outputId": "65e8d96b-8301-47b3-d905-94a8c6c4d3c4"
      },
      "execution_count": null,
      "outputs": [
        {
          "output_type": "execute_result",
          "data": {
            "text/plain": [
              "35796.0"
            ]
          },
          "metadata": {},
          "execution_count": 10
        }
      ]
    },
    {
      "cell_type": "code",
      "source": [
        "def estimate_coeff(X,y):\n",
        "  n= np.size(x)\n",
        "  m_x =np.mean(x)\n",
        "  m_y = np.mean(y)\n",
        "  sx_xy = sum(x*y)-n*m_x*m_y\n",
        "  print(sx_xy)\n",
        "  sx_xx = sum(x*x)-n*m_x*m_x\n",
        "  print(sx_xx)\n",
        "  b1= sx_xy/sx_xx\n",
        "  b0=m_y - b1*m_x\n",
        "  return(b0,b1)\n"
      ],
      "metadata": {
        "id": "-l2QxNZj-17V"
      },
      "execution_count": null,
      "outputs": []
    },
    {
      "cell_type": "code",
      "source": [
        "def estimate_coeff(X,y):\n",
        "  n= np.size(x)\n",
        "  m_x =np.mean(x)\n",
        "  m_y = np.mean(y)\n",
        "  sx_xy = sum(x*y)-n*m_x*m_y\n",
        "  print(sx_xy)\n",
        "  sx_xx = sum(x*x)-n*m_x*m_x\n",
        "  print(sx_xx)\n",
        "  b1= sx_xy/sx_xx\n",
        "  b0=m_y - b1*m_x\n",
        "  return(b0,b1)"
      ],
      "metadata": {
        "id": "SppJeDWL-4Ow"
      },
      "execution_count": null,
      "outputs": []
    },
    {
      "cell_type": "code",
      "source": [
        "plt.scatter(x,y,color ='m',marker=\"*\")"
      ],
      "metadata": {
        "colab": {
          "base_uri": "https://localhost:8080/",
          "height": 282
        },
        "id": "ywKPht-u_XNt",
        "outputId": "edf3d097-3352-4c4d-dd07-625c83771c4d"
      },
      "execution_count": null,
      "outputs": [
        {
          "output_type": "execute_result",
          "data": {
            "text/plain": [
              "<matplotlib.collections.PathCollection at 0x7f0910cab2d0>"
            ]
          },
          "metadata": {},
          "execution_count": 14
        },
        {
          "output_type": "display_data",
          "data": {
            "text/plain": [
              "<Figure size 432x288 with 1 Axes>"
            ],
            "image/png": "[encoded data removed]"
          },
          "metadata": {
            "needs_background": "light"
          }
        }
      ]
    },
    {
      "cell_type": "code",
      "source": [
        "plt.scatter(x,y, color=\"b\",marker =\"^\")\n",
        "plt.show()"
      ],
      "metadata": {
        "colab": {
          "base_uri": "https://localhost:8080/",
          "height": 265
        },
        "id": "rYQg6ZLk_dVU",
        "outputId": "742002cb-6421-4128-c25a-cc0461f8d6de"
      },
      "execution_count": null,
      "outputs": [
        {
          "output_type": "display_data",
          "data": {
            "text/plain": [
              "<Figure size 432x288 with 1 Axes>"
            ],
            "image/png": "[encoded data removed]"
          },
          "metadata": {
            "needs_background": "light"
          }
        }
      ]
    },
    {
      "cell_type": "code",
      "source": [
        "plt.hist(x)"
      ],
      "metadata": {
        "colab": {
          "base_uri": "https://localhost:8080/",
          "height": 317
        },
        "id": "aKN-HkyN_hmM",
        "outputId": "97f0a7e4-5f7c-4115-85a7-a4105030b1b1"
      },
      "execution_count": null,
      "outputs": [
        {
          "output_type": "execute_result",
          "data": {
            "text/plain": [
              "(array([1., 1., 1., 1., 1., 0., 2., 1., 1., 1.]),\n",
              " array([35. , 40.5, 46. , 51.5, 57. , 62.5, 68. , 73.5, 79. , 84.5, 90. ]),\n",
              " <a list of 10 Patch objects>)"
            ]
          },
          "metadata": {},
          "execution_count": 16
        },
        {
          "output_type": "display_data",
          "data": {
            "text/plain": [
              "<Figure size 432x288 with 1 Axes>"
            ],
            "image/png": "[encoded data removed]"
          },
          "metadata": {
            "needs_background": "light"
          }
        }
      ]
    },
    {
      "cell_type": "code",
      "source": [
        "plt.hist(y)"
      ],
      "metadata": {
        "colab": {
          "base_uri": "https://localhost:8080/",
          "height": 317
        },
        "id": "9p5AO1F9_qFT",
        "outputId": "eb031241-5dcd-4ae0-bb75-cd7e1649a2df"
      },
      "execution_count": null,
      "outputs": [
        {
          "output_type": "execute_result",
          "data": {
            "text/plain": [
              "(array([1., 0., 0., 1., 2., 0., 2., 2., 0., 2.]),\n",
              " array([25. , 30.1, 35.2, 40.3, 45.4, 50.5, 55.6, 60.7, 65.8, 70.9, 76. ]),\n",
              " <a list of 10 Patch objects>)"
            ]
          },
          "metadata": {},
          "execution_count": 17
        },
        {
          "output_type": "display_data",
          "data": {
            "text/plain": [
              "<Figure size 432x288 with 1 Axes>"
            ],
            "image/png": "[encoded data removed]"
          },
          "metadata": {
            "needs_background": "light"
          }
        }
      ]
    },
    {
      "cell_type": "code",
      "source": [
        "plt.boxplot(n)"
      ],
      "metadata": {
        "colab": {
          "base_uri": "https://localhost:8080/",
          "height": 404
        },
        "id": "7siZuOw1ACKI",
        "outputId": "3a002c13-2ebd-4db0-d107-d099891fff0e"
      },
      "execution_count": null,
      "outputs": [
        {
          "output_type": "execute_result",
          "data": {
            "text/plain": [
              "{'whiskers': [<matplotlib.lines.Line2D at 0x7f0910623650>,\n",
              "  <matplotlib.lines.Line2D at 0x7f0910623b90>],\n",
              " 'caps': [<matplotlib.lines.Line2D at 0x7f091062f110>,\n",
              "  <matplotlib.lines.Line2D at 0x7f091062f650>],\n",
              " 'boxes': [<matplotlib.lines.Line2D at 0x7f0910623150>],\n",
              " 'medians': [<matplotlib.lines.Line2D at 0x7f091062fbd0>],\n",
              " 'fliers': [<matplotlib.lines.Line2D at 0x7f0910636150>],\n",
              " 'means': []}"
            ]
          },
          "metadata": {},
          "execution_count": 18
        },
        {
          "output_type": "display_data",
          "data": {
            "text/plain": [
              "<Figure size 432x288 with 1 Axes>"
            ],
            "image/png": "[encoded data removed]"
          },
          "metadata": {
            "needs_background": "light"
          }
        }
      ]
    }
  ]
}